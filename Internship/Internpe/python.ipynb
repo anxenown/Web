{
 "cells": [
  {
   "cell_type": "markdown",
   "metadata": {},
   "source": [
    "# Python Basics"
   ]
  },
  {
   "cell_type": "markdown",
   "metadata": {},
   "source": [
    "## Introduction to python\n"
   ]
  },
  {
   "cell_type": "markdown",
   "metadata": {},
   "source": [
    "### Python:\n",
    "- General purpose, interpreted, high level language \n",
    "- developed by Guido Van Rossam in 1989\n",
    "- made in national research instritute neatherland\n",
    "- publically avaliable: feb 20 1991\n",
    "- It is most popular in AI and ML."
   ]
  },
  {
   "cell_type": "markdown",
   "metadata": {},
   "source": [
    "### Why the name python?\n",
    "Python name inspired by \"Monte Flying Python Circus\" broadcast by BBC in 1969-74.\n",
    "\n",
    "#### Features from:\n",
    "- functional programing - C\n",
    "- object oriented - C++\n",
    "- modular programing - modula-3\n",
    "- scripting - perl, bash scripting"
   ]
  },
  {
   "cell_type": "markdown",
   "metadata": {},
   "source": [
    "### Applications of python:\n",
    "- web development\n",
    "- game development\n",
    "- iot programing \n",
    "- machine lerning \n",
    "- artifitial inteligence\n",
    "- network programing\n",
    "- db programing\n",
    "- data analysis and visualisation\n",
    "\n",
    "#### Companies used:\n",
    "google, NASA, ISRO, yahoo, amazon -------------->python"
   ]
  },
  {
   "cell_type": "markdown",
   "metadata": {},
   "source": [
    "### Features of python:\n",
    "- **General Purpose :** Can be used for wide range of applications.\n",
    "\n",
    "- **High-level / OOPs :** Provide abstractions that simplify complex programming tasks, including (Object Oriented Programming concepts) OOPs.\n",
    "\n",
    "- **Free & Open source :** Available free of cost and easy to code beacause of large open source community.\n",
    "\n",
    "- **Extensible feature / Scripting :** We can write some python code in other programming languages. For example : Chaquopy in Android and pyscript in HTML.\n",
    "\n",
    "- **Portable / Platform independent :** We can write same python code in Linux, Windows, Android and IOS.\n",
    "\n",
    "- **Large Standard Library :** Python has collection of pre-built modules and functions for various tasks.\n",
    "\n",
    "- **Dynamically typed language :** No need to specify the type of variable, it will be taken automatically according the given value in Python.\n",
    "\n",
    "- **Interpreted :** Python code is executed line by line by an interpreter, allowing for rapid development and easy debugging."
   ]
  },
  {
   "cell_type": "markdown",
   "metadata": {},
   "source": [
    "### Limitations of python:\n",
    "- weak in developing mobile applications \n",
    "- Slow execution speed.\n",
    "- Not memory efficient.\n",
    "- Tough to access databases."
   ]
  },
  {
   "cell_type": "markdown",
   "metadata": {},
   "source": [
    "### Python is interpreted or Compiled ?\n",
    "\n",
    "In Python, the code is first compiled into bytecode and then interpreted by the Python interpreter. The compilation step happens automatically when the code is run, and the interpreted bytecode is executed by the interpreter. This combination of compilation and interpretation is known as \"interpreted compilation\" or \"just-in-time compilation.\""
   ]
  },
  {
   "cell_type": "markdown",
   "metadata": {},
   "source": [
    "### Flavours of python:\n",
    "- It typically pertains to different implementations or distributions of the Python programming language. These flavors provide additional features and capabilities.\n",
    "\n",
    "- **Jython :**  Python Interact with Java libraries. \n",
    "\n",
    "- **IronPython :**  Python Interact with .NET libraries. \n",
    "\n",
    "- **PyPy :**  Utilize JIT compilation for performance improvement over cpython. \n",
    "\n",
    "- **MicroPython :**  lightweight implementation optimized for microcontrollers and embedded systems.\n",
    "\n",
    "- **CPython :**  The default and most widely used implementation of Python, written in C. \n",
    "\n",
    "- **Anaconda :**  (although it is primarily a distribution that includes CPython, it also provides additional tools and libraries). "
   ]
  },
  {
   "cell_type": "markdown",
   "metadata": {},
   "source": [
    "### Reserved words/ Keywords:\n",
    "The words which convey special meaning to the identifiers.\n",
    "There are 33+ keywords in python.\n",
    "\n",
    "['False', 'None', 'True', 'and', 'as', 'assert', 'async', 'await', <br>\n",
    "'break', 'class', 'continue', 'def', 'del', 'elif', 'else', 'except', <br>\n",
    "'finally', 'for', 'from', 'global', 'if', 'import', 'in', 'is', <br>\n",
    "'lambda', 'nonlocal', 'not', 'or', 'pass', 'raise', 'return', 'try',<br>\n",
    "'while', 'with', 'yield']\n",
    "\n",
    "True, False and None ========> Starts with uppercase"
   ]
  },
  {
   "cell_type": "code",
   "execution_count": 1,
   "metadata": {},
   "outputs": [
    {
     "name": "stdout",
     "output_type": "stream",
     "text": [
      "['False', 'None', 'True', 'and', 'as', 'assert', 'async', 'await', 'break', 'class', 'continue', 'def', 'del', 'elif', 'else', 'except', 'finally', 'for', 'from', 'global', 'if', 'import', 'in', 'is', 'lambda', 'nonlocal', 'not', 'or', 'pass', 'raise', 'return', 'try', 'while', 'with', 'yield']\n"
     ]
    }
   ],
   "source": [
    "import keyword\n",
    "print(keyword.kwlist)"
   ]
  },
  {
   "cell_type": "markdown",
   "metadata": {},
   "source": [
    "### Identifiers:\n",
    "A name in python program is called Identifier.\n",
    "- it can be a class name, function name, variable name, module name\n",
    "\n",
    "#### Rules to define Identifiers in python:\n",
    "- **Allowed characcters:**<br>\n",
    "\n",
    "1. alphabet (uppercase or lowercase)<br>\n",
    "2. digits(0-9)<br>\n",
    "3. underscore(_)\n",
    "\n",
    "- **Should not be start with digits**\n",
    "- **case sensitive**\n",
    "- **we ccant use reserved words(keywords)**\n",
    "\n",
    "\n",
    "\n",
    "\n",
    "<pre>\n",
    "title = \"learn coding\"        (valid)\n",
    "123title = \"Anuj\"             (invalid because it starts with digits)\n",
    "country_name = \"India\"        (valid)\n",
    "country-name = \"India\"        (invalid because - is not allowed)\n",
    "True = \"Self\"                 (invalid because True is keyword)<pre>"
   ]
  },
  {
   "cell_type": "markdown",
   "metadata": {},
   "source": [
    "### Data types in python:\n",
    "Datatyoes are the classification or categorization of data items. It represents the kind of value that tells what operations can be performed on particular data.\n",
    "- datatypes represents the type of data present inside a variable.\n",
    "- we do not need to specify the data types specially in python,<br>\n",
    "based on the values types allocated automatically.\n",
    "- python is a dynamically typed language.\n",
    "\n",
    "#### Datatypes are classified as:\n",
    "\n",
    "<pre>\n",
    "    <b>Numeric                    Sequence                    Non-Sequence</b>\n",
    "   1. int                     1. string                     1. dict\n",
    "   2. float                   2. tuple                      2. bool\n",
    "   3. complex                 3. list                       3. set\n",
    "</pre>\n",
    "\n",
    "#### There are following data types in python:\n",
    "1. int\n",
    "2. float\n",
    "3. complex\n",
    "4. bool\n",
    "5. string\n",
    "6. bytes\n",
    "7. bytesarray\n",
    "8. range\n",
    "9. list\n",
    "10. tuple\n",
    "11. set\n",
    "12. frozenset\n",
    "13. dict\n",
    "14. none\n",
    "\n",
    "#### Primary data types in  python:\n",
    "1. int\n",
    "2. float\n",
    "3. complex\n",
    "4. bool\n",
    "5. string"
   ]
  },
  {
   "cell_type": "markdown",
   "metadata": {},
   "source": [
    "### int:\n",
    "\n",
    "- **decimal:** 'write no. directly' & use: int\n",
    "- **binary:** '0b' or '0B' & use: bin\n",
    "- **octal:** '0o' or '0O' & use: oct\n",
    "- **hexadecimal:** '0x' or '0X' & use: hex"
   ]
  },
  {
   "cell_type": "code",
   "execution_count": 7,
   "metadata": {},
   "outputs": [
    {
     "name": "stdout",
     "output_type": "stream",
     "text": [
      "<class 'int'>\n"
     ]
    },
    {
     "data": {
      "text/plain": [
       "132.0"
      ]
     },
     "execution_count": 7,
     "metadata": {},
     "output_type": "execute_result"
    }
   ],
   "source": [
    "# decimal form (0-9 digits)\n",
    "var= 132\n",
    "print(type(var))\n",
    " \n",
    "float(var) \n",
    " "
   ]
  },
  {
   "cell_type": "code",
   "execution_count": 10,
   "metadata": {},
   "outputs": [
    {
     "name": "stdout",
     "output_type": "stream",
     "text": [
      "<class 'int'>\n",
      "15\n"
     ]
    }
   ],
   "source": [
    "# binary form\n",
    "\n",
    "bvar= 0b1111\n",
    "print(type(bvar))\n",
    "print(bvar)"
   ]
  },
  {
   "cell_type": "code",
   "execution_count": 2,
   "metadata": {},
   "outputs": [
    {
     "name": "stdout",
     "output_type": "stream",
     "text": [
      "<class 'int'>\n",
      "83\n"
     ]
    }
   ],
   "source": [
    "# octal form\n",
    "\n",
    "ovar = 0o123\n",
    "print(type(ovar))\n",
    "print(ovar)\n"
   ]
  },
  {
   "cell_type": "code",
   "execution_count": 3,
   "metadata": {},
   "outputs": [
    {
     "name": "stdout",
     "output_type": "stream",
     "text": [
      "<class 'int'>\n",
      "64206\n"
     ]
    }
   ],
   "source": [
    "# hexadecimal form\n",
    "\n",
    "hvar = 0xFACE\n",
    "print(type(hvar))\n",
    "print(hvar)"
   ]
  },
  {
   "cell_type": "code",
   "execution_count": 7,
   "metadata": {},
   "outputs": [
    {
     "name": "stdout",
     "output_type": "stream",
     "text": [
      "0b1111\n",
      "0x5a\n",
      "0o7\n",
      "564\n"
     ]
    }
   ],
   "source": [
    "print(bin(15))\n",
    "print(hex(90))\n",
    "print(oct(0b111))\n",
    "print(int(0x234))"
   ]
  },
  {
   "cell_type": "markdown",
   "metadata": {},
   "source": [
    "### float:\n",
    "Represents floating point values."
   ]
  },
  {
   "cell_type": "code",
   "execution_count": 8,
   "metadata": {},
   "outputs": [
    {
     "name": "stdout",
     "output_type": "stream",
     "text": [
      "<class 'float'>\n"
     ]
    }
   ],
   "source": [
    "fvar = 3.1459\n",
    "print(type(fvar))"
   ]
  },
  {
   "cell_type": "code",
   "execution_count": 17,
   "metadata": {},
   "outputs": [
    {
     "name": "stdout",
     "output_type": "stream",
     "text": [
      "<class 'float'>\n",
      "2.13e+16\n",
      "21300000000000000\n"
     ]
    }
   ],
   "source": [
    "# e value\n",
    "\n",
    "fvar = 21.3e15\n",
    "print(type(fvar))\n",
    "print(fvar)\n",
    "print(int(fvar))"
   ]
  },
  {
   "cell_type": "markdown",
   "metadata": {},
   "source": [
    "### complex:\n",
    "Number of form a + bj, where a represents real part and b represents imaginary part.\n",
    "- a => real part(integer/float) (hex, bin, decimal, oct)\n",
    "- b => imaginary part(ineger/float) (only decimal)\n",
    "\n",
    "real ==> returns real part of numbers.<br>\n",
    "imag ==> returns imaginary part of numbers.\n"
   ]
  },
  {
   "cell_type": "code",
   "execution_count": 19,
   "metadata": {},
   "outputs": [
    {
     "name": "stdout",
     "output_type": "stream",
     "text": [
      "<class 'complex'>\n",
      "20.5\n",
      "50.0\n"
     ]
    }
   ],
   "source": [
    "cvar = 20.5 + 50j\n",
    "print(type(cvar))\n",
    "print(cvar.real)\n",
    "print(cvar.imag)"
   ]
  },
  {
   "cell_type": "markdown",
   "metadata": {},
   "source": [
    "### bool:\n",
    "represents boolean values.<br>\n",
    "(True,False)\n",
    "- True ==> 1\n",
    "- False ==> 0"
   ]
  },
  {
   "cell_type": "code",
   "execution_count": 3,
   "metadata": {},
   "outputs": [
    {
     "name": "stdout",
     "output_type": "stream",
     "text": [
      "<class 'bool'>\n"
     ]
    }
   ],
   "source": [
    "bvar = True\n",
    "print(type(bvar))"
   ]
  },
  {
   "cell_type": "markdown",
   "metadata": {},
   "source": [
    "### string:\n",
    "It is sequence of characters.\n",
    "- it is immutable in nature.\n",
    "- we can write single quote inside double quote or vice versa. \n",
    "- triple quote for multi-line string."
   ]
  },
  {
   "cell_type": "code",
   "execution_count": 7,
   "metadata": {},
   "outputs": [
    {
     "name": "stdout",
     "output_type": "stream",
     "text": [
      "<class 'str'>\n",
      "<class 'str'>\n",
      "<class 'str'>\n",
      "<class 'str'>\n"
     ]
    }
   ],
   "source": [
    "svar = 'I am doing work'\n",
    "s1var  = \"I am doing work\"\n",
    "s2var = '''I am doing work'''\n",
    "s3var = \"\"\"I am doing work\"\"\"\n",
    "\n",
    "print(type(svar))\n",
    "print(type(s1var))\n",
    "print(type(s2var))\n",
    "print(type(s3var))"
   ]
  },
  {
   "cell_type": "code",
   "execution_count": 6,
   "metadata": {},
   "outputs": [
    {
     "name": "stdout",
     "output_type": "stream",
     "text": [
      "<class 'str'>\n",
      "<class 'str'>\n",
      "<class 'str'>\n",
      "he said, \"I am doing great\"\n",
      "Is is Ram's house\n",
      "He is a good boy\n",
      "Ram runs very fast\n"
     ]
    }
   ],
   "source": [
    "svar = 'he said, \"I am doing great\"'\n",
    "s1var = \"Is is Ram's house\"\n",
    "s2var = '''He is a good boy\n",
    "Ram runs very fast'''\n",
    "\n",
    "print(type(svar))\n",
    "print(type(s1var))\n",
    "print(type(s2var))\n",
    "\n",
    "print(svar)\n",
    "print(s1var)\n",
    "print(s2var)"
   ]
  },
  {
   "cell_type": "markdown",
   "metadata": {},
   "source": [
    "### Indexing in string: [ ]\n",
    "left to right ==> starts with 0.<br>\n",
    "right to left ==> starts with -1."
   ]
  },
  {
   "cell_type": "code",
   "execution_count": 10,
   "metadata": {},
   "outputs": [
    {
     "name": "stdout",
     "output_type": "stream",
     "text": [
      "I\n",
      "a\n",
      "e\n",
      "p\n"
     ]
    }
   ],
   "source": [
    "svar = \"I am learning python with Internpe\"\n",
    "\n",
    "print(svar[0])\n",
    "print(svar[2])\n",
    "print(svar[-1])\n",
    "print(svar[-2])\n",
    "#print(svar[1000]) X (error)"
   ]
  },
  {
   "cell_type": "markdown",
   "metadata": {},
   "source": [
    "### slicing in string: [ : : ] or [ : ]\n",
    "[starting position : ending position]<br>\n",
    "[starting position : ending position : step]\n",
    "\n",
    "\n"
   ]
  },
  {
   "cell_type": "code",
   "execution_count": 25,
   "metadata": {},
   "outputs": [
    {
     "name": "stdout",
     "output_type": "stream",
     "text": [
      "pyt\n",
      "t\n",
      "\n",
      "python\n",
      "thon\n",
      "pytho\n",
      "n\n",
      "python\n",
      "pto\n",
      "n ytho y\n"
     ]
    }
   ],
   "source": [
    "svar = \"python\"\n",
    "\n",
    "print(svar[0:3])\n",
    "print(svar[2:3])\n",
    "print(svar[-1:0])\n",
    "print(svar[0:6])\n",
    "\n",
    "print(svar[2:])\n",
    "print(svar[:-1])\n",
    "print(svar[-1:])\n",
    "\n",
    "print(svar[0:6:1])\n",
    "print(svar[0:6:2])\n",
    "\n",
    "print(svar[-1],svar[1:-1],svar[1])\n"
   ]
  },
  {
   "cell_type": "markdown",
   "metadata": {},
   "source": [
    "### revarse of string using slicing:\n",
    "str[ : :-1]"
   ]
  },
  {
   "cell_type": "code",
   "execution_count": 34,
   "metadata": {},
   "outputs": [
    {
     "name": "stdout",
     "output_type": "stream",
     "text": [
      "nohtyp\n"
     ]
    }
   ],
   "source": [
    "svar = \"python\"\n",
    "print(svar[::-1])\n"
   ]
  },
  {
   "cell_type": "markdown",
   "metadata": {},
   "source": [
    "### Fornating of string:\n",
    "{ } ==> replacement operator\n",
    "- f ==> formating\n",
    "- r ==> raw"
   ]
  },
  {
   "cell_type": "code",
   "execution_count": 39,
   "metadata": {},
   "outputs": [
    {
     "name": "stdout",
     "output_type": "stream",
     "text": [
      "Mitochondria is the powerhouse of the cell\n",
      "sum of 2 and 6 is \\n{2+6}\n",
      "Mitochondria is the powerhouse of the cell\n",
      "Mitochondria is the powerhouse of the cell\n",
      "Mitochondria is the powerhouse of the cell\n",
      "Mitochondria is the powerhouse of the cell\n"
     ]
    }
   ],
   "source": [
    "organelle= 'Mitochondria'\n",
    "athority= 'powerhouse'\n",
    "feild= 'cell'\n",
    "\n",
    "\n",
    "print(f'{organelle} is the {athority} of the {feild}')\n",
    "\n",
    "print(r\"sum of 2 and 6 is \\n{2+6}\")\n",
    "\n",
    "# other\n",
    "\n",
    "print(organelle,'is the',athority,'of the',feild)\n",
    "\n",
    "print('%s is the %s of the %s' %(organelle,athority,feild) )\n",
    "\n",
    "print(organelle+ \" is the \"+athority+ \" of the \"+ feild)\n",
    "\n",
    "print(\"{} is the {} of the {}\".format(organelle,athority,feild))\n"
   ]
  },
  {
   "cell_type": "markdown",
   "metadata": {},
   "source": [
    "### Methods of string:\n",
    "- **split(\"pattern\") -->** splits into several part based on pattern.( returns list )\n",
    "- **(\"pattern\").join(sequence) -->** join the string based on pattern.\n",
    "- **find( \"pattern\", start, end) -->** find the position of our pattern. <br>\n",
    "if pattern not found then it will return -1.\n",
    "- **index(\"pattern\", start, end) -->** same as find bus it will generate error if pattern not found."
   ]
  },
  {
   "cell_type": "code",
   "execution_count": 51,
   "metadata": {},
   "outputs": [
    {
     "name": "stdout",
     "output_type": "stream",
     "text": [
      "['Hi,', 'how', 'are', 'you?']\n"
     ]
    }
   ],
   "source": [
    "#split\n",
    "data = \"Hi,-how-are-you?\"\n",
    "print(data.split('-'))"
   ]
  },
  {
   "cell_type": "code",
   "execution_count": 61,
   "metadata": {},
   "outputs": [
    {
     "name": "stdout",
     "output_type": "stream",
     "text": [
      "apple-banana-grapes\n",
      "apple banana grapes\n"
     ]
    }
   ],
   "source": [
    "# join\n",
    "data = [ \"apple\" , \"banana\" ,\"grapes\" ]\n",
    "print('-'.join(data))\n",
    "print(' '.join(data))"
   ]
  },
  {
   "cell_type": "code",
   "execution_count": 75,
   "metadata": {},
   "outputs": [
    {
     "name": "stdout",
     "output_type": "stream",
     "text": [
      "0\n",
      "9\n",
      "29\n",
      "-1\n",
      "-1\n"
     ]
    }
   ],
   "source": [
    "# find\n",
    "data = \"so, I guess you are good deeds.\"\n",
    "\n",
    "print(data.find(\"s\"))\n",
    "print(data.find(\"s\",1))\n",
    "print(data.find(\"s\",11,-1))\n",
    "\n",
    "print(data.find(\"s\",11,-2))\n",
    "print(data.find(\"S\"))\n"
   ]
  }
 ],
 "metadata": {
  "kernelspec": {
   "display_name": "Python 3",
   "language": "python",
   "name": "python3"
  },
  "language_info": {
   "codemirror_mode": {
    "name": "ipython",
    "version": 3
   },
   "file_extension": ".py",
   "mimetype": "text/x-python",
   "name": "python",
   "nbconvert_exporter": "python",
   "pygments_lexer": "ipython3",
   "version": "3.11.2"
  },
  "orig_nbformat": 4
 },
 "nbformat": 4,
 "nbformat_minor": 2
}
