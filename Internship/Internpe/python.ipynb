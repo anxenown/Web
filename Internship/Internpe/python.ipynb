{
 "cells": [
  {
   "cell_type": "markdown",
   "metadata": {},
   "source": [
    "## Day 1: Introduction to python\n"
   ]
  },
  {
   "cell_type": "markdown",
   "metadata": {},
   "source": [
    "### Python:\n",
    "- General purpose high level language \n",
    "- developed by Guido Van Rossam in 1989\n",
    "- made in national research instritute neatherland\n",
    "- publically avaliable: feb 20 1991"
   ]
  },
  {
   "cell_type": "markdown",
   "metadata": {},
   "source": [
    "### Why the name python?\n",
    "\"monty flying python circus\" broadcast by BBC in 1969-74\n",
    "\n",
    "#### Features from:\n",
    "- functional programing - C\n",
    "- object oriented - C++\n",
    "- modular programing - modula-3\n",
    "- scripting - perl, bash scripting"
   ]
  },
  {
   "cell_type": "markdown",
   "metadata": {},
   "source": [
    "### Applications of python:\n",
    "- web development\n",
    "- game development\n",
    "- iot programing \n",
    "- machine lerning \n",
    "- artifitial inteligence\n",
    "- network programing\n",
    "- db programing\n",
    "\n",
    "#### Companies used:\n",
    "google, NASA, ISRO, yahoo, amazon -------------->python"
   ]
  },
  {
   "cell_type": "markdown",
   "metadata": {},
   "source": [
    "### Features of python:\n",
    "- simple and easy to learn\n",
    "- freeware and open source\n",
    "- platform independent\n",
    "- portable\n",
    "- rich library\n",
    "- extensible\n",
    "- embedded\n",
    "- dynamically typed\n",
    "- interpreted"
   ]
  },
  {
   "cell_type": "markdown",
   "metadata": {},
   "source": [
    "### Limitations of python:\n",
    "- mobile application X\n",
    "- performance is not up to the mark\n"
   ]
  },
  {
   "cell_type": "markdown",
   "metadata": {},
   "source": [
    "### Flavours of python:\n",
    "- jython\n",
    "- pypy\n",
    "- anaconda python\n",
    "- cpython"
   ]
  }
 ],
 "metadata": {
  "language_info": {
   "name": "python"
  },
  "orig_nbformat": 4
 },
 "nbformat": 4,
 "nbformat_minor": 2
}
