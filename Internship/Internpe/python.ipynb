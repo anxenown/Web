{
 "cells": [
  {
   "cell_type": "markdown",
   "metadata": {},
   "source": [
    "## Day 1: Introduction to python\n"
   ]
  },
  {
   "cell_type": "markdown",
   "metadata": {},
   "source": [
    "### Python:\n",
    "- General purpose, interpreted, high level language \n",
    "- developed by Guido Van Rossam in 1989\n",
    "- made in national research instritute neatherland\n",
    "- publically avaliable: feb 20 1991\n",
    "- It is most popular in AI and ML."
   ]
  },
  {
   "cell_type": "markdown",
   "metadata": {},
   "source": [
    "### Why the name python?\n",
    "Python name inspired by \"Monte Flying Python Circus\" broadcast by BBC in 1969-74.\n",
    "\n",
    "#### Features from:\n",
    "- functional programing - C\n",
    "- object oriented - C++\n",
    "- modular programing - modula-3\n",
    "- scripting - perl, bash scripting"
   ]
  },
  {
   "cell_type": "markdown",
   "metadata": {},
   "source": [
    "### Applications of python:\n",
    "- web development\n",
    "- game development\n",
    "- iot programing \n",
    "- machine lerning \n",
    "- artifitial inteligence\n",
    "- network programing\n",
    "- db programing\n",
    "- data analysis and visualisation\n",
    "\n",
    "#### Companies used:\n",
    "google, NASA, ISRO, yahoo, amazon -------------->python"
   ]
  },
  {
   "cell_type": "markdown",
   "metadata": {},
   "source": [
    "### Features of python:\n",
    "- **General Purpose :** Can be used for wide range of applications.\n",
    "\n",
    "- **High-level / OOPs :** Provide abstractions that simplify complex programming tasks, including (Object Oriented Programming concepts) OOPs.\n",
    "\n",
    "- **Free & Open source :** Available free of cost and easy to code beacause of large open source community.\n",
    "\n",
    "- **Extensible feature / Scripting :** We can write some python code in other programming languages. For example : Chaquopy in Android and pyscript in HTML.\n",
    "\n",
    "- **Portable / Platform independent :** We can write same python code in Linux, Windows, Android and IOS.\n",
    "\n",
    "- **Large Standard Library :** Python has collection of pre-built modules and functions for various tasks.\n",
    "\n",
    "- **Dynamically typed language :** No need to specify the type of variable, it will be taken automatically according the given value in Python.\n",
    "\n",
    "- **Interpreted :** Python code is executed line by line by an interpreter, allowing for rapid development and easy debugging."
   ]
  },
  {
   "cell_type": "markdown",
   "metadata": {},
   "source": [
    "### Limitations of python:\n",
    "- weak in developing mobile applications \n",
    "- Slow execution speed.\n",
    "- Not memory efficient.\n",
    "- Tough to access databases."
   ]
  },
  {
   "cell_type": "markdown",
   "metadata": {},
   "source": [
    "### Python is interpreted or Compiled ?\n",
    "\n",
    "In Python, the code is first compiled into bytecode and then interpreted by the Python interpreter. The compilation step happens automatically when the code is run, and the interpreted bytecode is executed by the interpreter. This combination of compilation and interpretation is known as \"interpreted compilation\" or \"just-in-time compilation.\""
   ]
  },
  {
   "cell_type": "markdown",
   "metadata": {},
   "source": [
    "### Flavours of python:\n",
    "- It typically pertains to different implementations or distributions of the Python programming language. These flavors provide additional features and capabilities.\n",
    "\n",
    "- **Jython :**  Python Interact with Java libraries. \n",
    "\n",
    "- **IronPython :**  Python Interact with .NET libraries. \n",
    "\n",
    "- **PyPy :**  Utilize JIT compilation for performance improvement over cpython. \n",
    "\n",
    "- **MicroPython :**  lightweight implementation optimized for microcontrollers and embedded systems.\n",
    "\n",
    "- **CPython :**  The default and most widely used implementation of Python, written in C. \n",
    "\n",
    "- **Anaconda :**  (although it is primarily a distribution that includes CPython, it also provides additional tools and libraries). "
   ]
  },
  {
   "cell_type": "markdown",
   "metadata": {},
   "source": [
    "## Day 2:\n"
   ]
  },
  {
   "cell_type": "markdown",
   "metadata": {},
   "source": [
    "### Reserved words/ Keywords:\n",
    "The words which convey special meaning to the identifiers.\n",
    "There are 33+ keywords in python.\n",
    "\n",
    "['False', 'None', 'True', 'and', 'as', 'assert', 'async', 'await', <br>\n",
    "'break', 'class', 'continue', 'def', 'del', 'elif', 'else', 'except', <br>\n",
    "'finally', 'for', 'from', 'global', 'if', 'import', 'in', 'is', <br>\n",
    "'lambda', 'nonlocal', 'not', 'or', 'pass', 'raise', 'return', 'try',<br>\n",
    "'while', 'with', 'yield']\n",
    "\n",
    "True, False and None ========> Starts with uppercase"
   ]
  },
  {
   "cell_type": "code",
   "execution_count": 3,
   "metadata": {},
   "outputs": [
    {
     "name": "stdout",
     "output_type": "stream",
     "text": [
      "['False', 'None', 'True', 'and', 'as', 'assert', 'async', 'await', 'break', 'class', 'continue', 'def', 'del', 'elif', 'else', 'except', 'finally', 'for', 'from', 'global', 'if', 'import', 'in', 'is', 'lambda', 'nonlocal', 'not', 'or', 'pass', 'raise', 'return', 'try', 'while', 'with', 'yield']\n"
     ]
    }
   ],
   "source": [
    "import keyword\n",
    "print(keyword.kwlist)"
   ]
  },
  {
   "cell_type": "markdown",
   "metadata": {},
   "source": [
    "### Identifiers:\n",
    "A name in python program is called Identifier.\n",
    "- it can be a class name, function name, variable name, module name\n",
    "\n",
    "#### Rules to define Identifiers in python:\n",
    "- **Allowed characcters:**<br>\n",
    "\n",
    "1. alphabet (uppercase or lowercase)<br>\n",
    "2. digits(0-9)<br>\n",
    "3. underscore(_)\n",
    "\n",
    "- **Should not be start with digits**\n",
    "- **case sensitive**\n",
    "- **we ccant use reserved words(keywords)**\n",
    "\n",
    "\n",
    "\n",
    "\n",
    "<pre>\n",
    "title = \"learn coding\"        (valid)\n",
    "123title = \"Anuj\"             (invalid because it starts with digits)\n",
    "country_name = \"India\"        (valid)\n",
    "country-name = \"India\"        (invalid because - is not allowed)\n",
    "True = \"Self\"                 (invalid because True is keyword)<pre>"
   ]
  },
  {
   "cell_type": "markdown",
   "metadata": {},
   "source": [
    "### Data types in python:\n",
    "Datatyoes are the classification or categorization of data items. It represents the kind of value that tells what operations can be performed on particular data.\n",
    "- datatypes represents the type of data present inside a variable.\n",
    "- we do not need to specify the data types specially in python,<br>\n",
    "based on the values types allocated automatically.\n",
    "- python is a dynamically typed language.\n",
    "\n",
    "#### Datatypes are classified as:\n",
    "\n",
    "<pre>\n",
    "    <b>Numeric                    Sequence                    Non-Sequence</b>\n",
    "   1. int                     1. string                     1. dict\n",
    "   2. float                   2. tuple                      2. bool\n",
    "   3. complex                 3. list                       3. set\n",
    "</pre>\n",
    "\n",
    "#### There are following data types in python:\n",
    "1. int\n",
    "2. float\n",
    "3. complex\n",
    "4. bool\n",
    "5. string\n",
    "6. bytes\n",
    "7. bytesarray\n",
    "8. range\n",
    "9. list\n",
    "10. tuple\n",
    "11. set\n",
    "12. frozenset\n",
    "13. dict\n",
    "14. none\n",
    "\n",
    "#### Primary data types in  python:\n",
    "1. int\n",
    "2. float\n",
    "3. complex\n",
    "4. bool\n",
    "5. string"
   ]
  },
  {
   "cell_type": "code",
   "execution_count": 7,
   "metadata": {},
   "outputs": [
    {
     "name": "stdout",
     "output_type": "stream",
     "text": [
      "<class 'int'>\n"
     ]
    },
    {
     "data": {
      "text/plain": [
       "132.0"
      ]
     },
     "execution_count": 7,
     "metadata": {},
     "output_type": "execute_result"
    }
   ],
   "source": [
    "# decimal form (0-9 digits)\n",
    "var= 132\n",
    "print(type(var))\n",
    " \n",
    "float(var) \n",
    " "
   ]
  },
  {
   "cell_type": "code",
   "execution_count": 10,
   "metadata": {},
   "outputs": [
    {
     "name": "stdout",
     "output_type": "stream",
     "text": [
      "<class 'int'>\n",
      "15\n"
     ]
    }
   ],
   "source": [
    "# binary form\n",
    "\n",
    "bvar= 0b1111\n",
    "print(type(bvar))\n",
    "print(bvar)"
   ]
  }
 ],
 "metadata": {
  "kernelspec": {
   "display_name": "Python 3",
   "language": "python",
   "name": "python3"
  },
  "language_info": {
   "codemirror_mode": {
    "name": "ipython",
    "version": 3
   },
   "file_extension": ".py",
   "mimetype": "text/x-python",
   "name": "python",
   "nbconvert_exporter": "python",
   "pygments_lexer": "ipython3",
   "version": "3.11.2"
  },
  "orig_nbformat": 4
 },
 "nbformat": 4,
 "nbformat_minor": 2
}
